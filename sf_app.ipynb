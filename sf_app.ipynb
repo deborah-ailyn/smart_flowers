{
 "cells": [
  {
   "cell_type": "markdown",
   "metadata": {},
   "source": [
    "## Notes"
   ]
  },
  {
   "cell_type": "markdown",
   "metadata": {},
   "source": [
    "#### Esqueleto de desarrollo de code"
   ]
  },
  {
   "cell_type": "markdown",
   "metadata": {},
   "source": [
    "##### Parte 1"
   ]
  },
  {
   "cell_type": "code",
   "execution_count": null,
   "metadata": {},
   "outputs": [],
   "source": [
    "import streamlit as st\n",
    "\n",
    "def build_image_uploader():\n",
    "    image = 0\n",
    "    return image\n",
    "\n",
    "def read_image(raw_image):\n",
    "    pass\n",
    "\n",
    "def display_image(image):\n",
    "    pass\n",
    "\n",
    "if __name__ == \"__main__\":\n",
    "    st.title(\"Hello! This is my first steamlit app\")\n",
    "\n",
    "    raw_image = build_image_uploader()\n",
    "    image = read_image(raw_image)\n",
    "    \n",
    "    display_image(image)"
   ]
  },
  {
   "cell_type": "markdown",
   "metadata": {},
   "source": [
    "##### Parte 2"
   ]
  }
 ],
 "metadata": {
  "language_info": {
   "name": "python"
  },
  "orig_nbformat": 4
 },
 "nbformat": 4,
 "nbformat_minor": 2
}
