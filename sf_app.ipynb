{
 "cells": [
  {
   "cell_type": "markdown",
   "metadata": {},
   "source": [
    "## Notes"
   ]
  },
  {
   "cell_type": "markdown",
   "metadata": {},
   "source": [
    "#### Esqueleto de desarrollo de code"
   ]
  },
  {
   "cell_type": "markdown",
   "metadata": {},
   "source": [
    "##### Parte 1"
   ]
  },
  {
   "cell_type": "code",
   "execution_count": null,
   "metadata": {},
   "outputs": [],
   "source": [
    "import streamlit as st\n",
    "from PIL import Image\n",
    "from displayers import display_image, display_molly_pic\n",
    "\n",
    "def build_image_uploader():\n",
    "    image = 0\n",
    "    return image\n",
    "\n",
    "def read_image(raw_image):\n",
    "    pass\n",
    "\n",
    "def display_image(image):\n",
    "    pass\n",
    "\n",
    "if __name__ == \"__main__\":\n",
    "    st.title(\"Hello! This is my first steamlit app\")\n",
    "\n",
    "    raw_image = build_image_uploader()\n",
    "    image = read_image(raw_image)\n",
    "    \n",
    "    display_image(image)"
   ]
  },
  {
   "cell_type": "markdown",
   "metadata": {},
   "source": [
    "##### Parte 2"
   ]
  },
  {
   "cell_type": "code",
   "execution_count": null,
   "metadata": {},
   "outputs": [],
   "source": [
    "\n",
    "def load_model():\n",
    "    model = None\n",
    "    return model\n",
    "\n",
    "def classify_image(image, model):\n",
    "    pred_flower = None\n",
    "    probability = None\n",
    "    return probability, pred_flower\n",
    "\n",
    "def get_pred_img(pred_flower):\n",
    "    pred_img = None\n",
    "    return pred_img\n",
    "\n",
    "def display_result(pred_img, pred_flower, probability):\n",
    "    pass\n",
    "\n",
    "\n",
    "if __name__ == \"__main__\":\n",
    "    \n",
    "    st.title(\"Hello! This is my first steamlit app\")\n",
    "\n",
    "    image = build_image_uploader()\n",
    "\n",
    "    if image:\n",
    "        display_image(image)\n",
    "        success_msg(\"Image successfully uploaded\")\n",
    "    \n",
    "    puppies_checkbox()\n",
    "\n",
    "    # Write code here:\n",
    "\n",
    "    model = load_model()\n",
    "\n",
    "    probability, pred_flower = classify_image(image,model)\n",
    "\n",
    "    predicted_image = get_pred_img(pred_flower)\n",
    "\n",
    "    display_result(pred_img=predicted_image, pred_flower=pred_flower, probability=probability)\n"
   ]
  },
  {
   "cell_type": "markdown",
   "metadata": {},
   "source": [
    "##### Parte 3"
   ]
  },
  {
   "cell_type": "code",
   "execution_count": null,
   "metadata": {},
   "outputs": [],
   "source": []
  }
 ],
 "metadata": {
  "language_info": {
   "name": "python"
  },
  "orig_nbformat": 4
 },
 "nbformat": 4,
 "nbformat_minor": 2
}
